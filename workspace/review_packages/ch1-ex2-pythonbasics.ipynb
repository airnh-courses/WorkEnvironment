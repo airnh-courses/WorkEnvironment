{
 "cells": [
  {
   "cell_type": "markdown",
   "id": "01a82277-f8bd-4d6a-83f3-b1687b1a19f5",
   "metadata": {
    "tags": []
   },
   "source": [
    "<font size = 7>\n",
    "Python Review Notes\n",
    "</font>"
   ]
  },
  {
   "cell_type": "markdown",
   "id": "35385ad7-dd3f-4735-887a-0b87eaa49a69",
   "metadata": {
    "tags": []
   },
   "source": [
    "***\n",
    "# A. 2D Data Indices\n",
    "The cell below creates 10x3 random data."
   ]
  },
  {
   "cell_type": "code",
   "execution_count": null,
   "id": "57372dca-87b3-4344-8a9f-662a3d1be322",
   "metadata": {},
   "outputs": [],
   "source": []
  },
  {
   "cell_type": "markdown",
   "id": "1956f6df-add1-40c3-bcdb-d338f1e51701",
   "metadata": {
    "tags": []
   },
   "source": [
    "## Exercise 1\n",
    "<font size = 4>Let's get a data at second row and second column. </font>\n"
   ]
  },
  {
   "cell_type": "code",
   "execution_count": null,
   "id": "23fe1354-d163-4b72-b81d-e38e279d0096",
   "metadata": {},
   "outputs": [],
   "source": []
  },
  {
   "cell_type": "markdown",
   "id": "ebb34e1a-2db5-4441-b096-b79c44586442",
   "metadata": {},
   "source": [
    "## Exercise 2\n",
    "<font size = 4>Let's get all values of the first row. </font>\n"
   ]
  },
  {
   "cell_type": "code",
   "execution_count": null,
   "id": "5d23fa5f-0a60-4721-bcab-1010d1f05e84",
   "metadata": {},
   "outputs": [],
   "source": []
  },
  {
   "cell_type": "markdown",
   "id": "376688a7-2c22-4065-82ac-6bacaf81b77c",
   "metadata": {},
   "source": [
    "## Exercise 3\n",
    "<font size = 4>Let's get all values of the third column. </font>\n",
    "<font size = 4>Colon =  all</font>\n"
   ]
  },
  {
   "cell_type": "code",
   "execution_count": null,
   "id": "91775239-d6f5-4d62-96e6-7b822658cf5f",
   "metadata": {},
   "outputs": [],
   "source": []
  },
  {
   "cell_type": "markdown",
   "id": "11b31ee7-0af1-45b3-8802-1255b0f823d6",
   "metadata": {},
   "source": [
    "## Exercise 4\n",
    "<font size = 4>Let's get the all data from the second row to the 4th row. </font>\n"
   ]
  },
  {
   "cell_type": "code",
   "execution_count": null,
   "id": "de9f16bb-ea50-4f07-8ed3-d04c6cc023a7",
   "metadata": {},
   "outputs": [],
   "source": []
  },
  {
   "cell_type": "markdown",
   "id": "b4956c0c-e56c-4570-8c35-b24490c1ef93",
   "metadata": {},
   "source": [
    "## Exercise 5\n",
    "<font size = 4>Let's get the values of the first and the second columns. </font>"
   ]
  },
  {
   "cell_type": "code",
   "execution_count": null,
   "id": "d2e94607-57ee-4627-a2b9-fa60b69f3f7e",
   "metadata": {},
   "outputs": [],
   "source": []
  },
  {
   "cell_type": "markdown",
   "id": "48c26657-a123-423c-af64-084266e3b6a1",
   "metadata": {
    "tags": []
   },
   "source": [
    "## Exercise 6\n",
    "<font size = 4>Negative indices.</font>"
   ]
  },
  {
   "cell_type": "code",
   "execution_count": null,
   "id": "8aa373b2-80ab-490c-8f74-fa54e8695f9a",
   "metadata": {},
   "outputs": [],
   "source": []
  },
  {
   "cell_type": "markdown",
   "id": "839a6c45-b01e-4ae2-aee7-a2aa0ab66d06",
   "metadata": {},
   "source": [
    "## Exercise 7\n",
    "<font size = 4> From the second row to the one row before the last row</font>"
   ]
  },
  {
   "cell_type": "code",
   "execution_count": null,
   "id": "9d834223-11e4-4a40-a4ec-21730d3b6215",
   "metadata": {},
   "outputs": [],
   "source": []
  },
  {
   "cell_type": "markdown",
   "id": "aa28d1ba-9a85-425b-ae45-8c1777493173",
   "metadata": {},
   "source": [
    "<font size=4 color=\"green\">\n",
    "See more practices:</font> \n",
    "\n",
    "basic numpy indexing\n",
    "https://www.w3resource.com/python-exercises/numpy/index-array.php\n",
    "\n",
    "\n"
   ]
  },
  {
   "cell_type": "markdown",
   "id": "1b379174-4737-4ff8-91a1-1958d9fdb0d0",
   "metadata": {},
   "source": [
    "***\n",
    "# B. If statement\n"
   ]
  },
  {
   "cell_type": "code",
   "execution_count": null,
   "id": "508aabd7-a548-4465-b65b-0764c844673d",
   "metadata": {},
   "outputs": [],
   "source": []
  },
  {
   "cell_type": "markdown",
   "id": "0444f5bb-ea3d-4066-becc-54915d3aea81",
   "metadata": {
    "tags": []
   },
   "source": [
    "***\n",
    "# C. Loops\n"
   ]
  },
  {
   "cell_type": "code",
   "execution_count": null,
   "id": "8e10ff17-b56d-4f98-8e86-6afbc00c9915",
   "metadata": {},
   "outputs": [],
   "source": [
    "\n",
    "    "
   ]
  },
  {
   "cell_type": "markdown",
   "id": "3e4c2e8a-6f02-4968-b020-dd1a7a96076c",
   "metadata": {},
   "source": [
    "***\n",
    "# D. User Defined Function\n"
   ]
  },
  {
   "cell_type": "code",
   "execution_count": null,
   "id": "803b91e3-a0c7-429c-bf59-fa6509ffe8df",
   "metadata": {},
   "outputs": [],
   "source": []
  },
  {
   "cell_type": "markdown",
   "id": "e84cb1f0-6f38-4779-a2ac-02291e01213a",
   "metadata": {},
   "source": [
    "***\n",
    "# E. Class\n"
   ]
  },
  {
   "cell_type": "code",
   "execution_count": null,
   "id": "a4ec917f-a1f3-498d-8fbd-b707d67f49e6",
   "metadata": {},
   "outputs": [],
   "source": []
  },
  {
   "cell_type": "code",
   "execution_count": null,
   "id": "d7839938-17fe-42ed-bb6e-b7d091aa0c64",
   "metadata": {},
   "outputs": [],
   "source": []
  },
  {
   "cell_type": "code",
   "execution_count": null,
   "id": "7c4b6b9e-a4c0-4900-9abf-c465a26621ea",
   "metadata": {},
   "outputs": [],
   "source": []
  }
 ],
 "metadata": {
  "kernelspec": {
   "display_name": "Python 3 (ipykernel)",
   "language": "python",
   "name": "python3"
  },
  "language_info": {
   "codemirror_mode": {
    "name": "ipython",
    "version": 3
   },
   "file_extension": ".py",
   "mimetype": "text/x-python",
   "name": "python",
   "nbconvert_exporter": "python",
   "pygments_lexer": "ipython3",
   "version": "3.9.7"
  }
 },
 "nbformat": 4,
 "nbformat_minor": 5
}
