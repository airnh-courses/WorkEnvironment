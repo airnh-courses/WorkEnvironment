{
 "cells": [
  {
   "cell_type": "markdown",
   "id": "2e7b8812-f938-40fd-8fb7-842c4a93d14e",
   "metadata": {},
   "source": [
    "<font size = 7>\n",
    "Python Packages\n",
    "</font>"
   ]
  },
  {
   "cell_type": "markdown",
   "id": "b39ce501-6e4f-4f99-9ccb-b767c5107795",
   "metadata": {},
   "source": [
    "***\n",
    "# A. Mathtool - Numpy\n"
   ]
  },
  {
   "cell_type": "code",
   "execution_count": null,
   "id": "4dd12af7-297b-468a-89f1-e085c1965736",
   "metadata": {},
   "outputs": [],
   "source": []
  },
  {
   "cell_type": "markdown",
   "id": "ef50637a-0a21-4bf5-a22f-36dadfec4eba",
   "metadata": {},
   "source": [
    "***\n",
    "# B. Graphing Tool - Matplotlib\n"
   ]
  },
  {
   "cell_type": "code",
   "execution_count": null,
   "id": "fe0a4191-7f9a-432a-ac30-64b512f2cdbb",
   "metadata": {},
   "outputs": [],
   "source": []
  },
  {
   "cell_type": "code",
   "execution_count": null,
   "id": "b44510d0-2c60-46fa-b372-c60137d550fa",
   "metadata": {},
   "outputs": [],
   "source": []
  },
  {
   "cell_type": "markdown",
   "id": "24f23248-7d6a-48f3-a421-adc299e40d9d",
   "metadata": {},
   "source": [
    "***\n",
    "# C. Reading Dataset - Pandas\n"
   ]
  },
  {
   "cell_type": "code",
   "execution_count": null,
   "id": "03d39508-90b0-4de8-acda-c53b6d3da02f",
   "metadata": {},
   "outputs": [],
   "source": []
  },
  {
   "cell_type": "code",
   "execution_count": null,
   "id": "93a37927-b639-4f20-ae7f-79b7f85c92e2",
   "metadata": {},
   "outputs": [],
   "source": []
  }
 ],
 "metadata": {
  "kernelspec": {
   "display_name": "Python 3.8.0 ('base')",
   "language": "python",
   "name": "python3"
  },
  "language_info": {
   "codemirror_mode": {
    "name": "ipython",
    "version": 3
   },
   "file_extension": ".py",
   "mimetype": "text/x-python",
   "name": "python",
   "nbconvert_exporter": "python",
   "pygments_lexer": "ipython3",
   "version": "3.8.0"
  },
  "vscode": {
   "interpreter": {
    "hash": "8cb48ee34b52abbc0c4c6c9a8d1e18bbd374f2d1391cafbd22bf8a5424951de7"
   }
  }
 },
 "nbformat": 4,
 "nbformat_minor": 5
}
