{
 "cells": [
  {
   "cell_type": "markdown",
   "metadata": {},
   "source": [
    "<font size = 7>\n",
    "Math Review: Math for IMU.\n",
    "</font>\n"
   ]
  },
  {
   "cell_type": "markdown",
   "metadata": {},
   "source": [
    "***\n",
    "# A. Trigonometric Functions\n",
    "\n",
    "\n",
    "### Basic trig functions\n",
    "\n"
   ]
  },
  {
   "cell_type": "code",
   "execution_count": null,
   "metadata": {
    "tags": []
   },
   "outputs": [],
   "source": [
    "from airnh.reviews import *\n",
    "import matplotlib.pyplot as plt\n",
    "%matplotlib widget  \n",
    "\n",
    "# Note:\n",
    "# numpy trig functions only handles angles in radian \n",
    "\n",
    "\"\"\" Code below \"\"\"\n",
    "# sine\n",
    "# implement a sine function that accepts an angle in degrees.\n",
    "def calcSine(deg):\n",
    "    return None\n",
    "\n",
    "# cosine\n",
    "# implement a cosine function that accepts an angle in degrees.\n",
    "def calcCosine(deg):\n",
    "    return None\n",
    "# tangent\n",
    "# implement a tangent function that accepts an angle in degrees.\n",
    "def calcTangent(deg):\n",
    "    return None\n",
    "\n",
    "# arcsine\n",
    "# implement an arcsine function that outputs angle in degree.\n",
    "def calcArcsine(ratio):\n",
    "    return None\n",
    "\n",
    "# arccosine\n",
    "# implement an arccosine function that outputs angle in degree.\n",
    "def calcArccosine(ratio):\n",
    "    return None\n",
    "\n",
    "# arctangent\n",
    "# implement an arctangent function that outputs angle in degree.\n",
    "def calcArctangent(ratio):\n",
    "    return None\n",
    "\n",
    "\"\"\" End of cell \"\"\"\n",
    "test_trig([calcSine, calcCosine, calcTangent, calcArcsine, calcArccosine, calcArctangent])"
   ]
  },
  {
   "cell_type": "markdown",
   "metadata": {},
   "source": [
    "#### Yet, there is an intersting behavior of the arctangent. As input of artangent is a ratio, how do we know about the corresponding quadrant as the \"-\" signs may cancel out each other? There is a function called atan2. Indeed, its input is not a ratio, but each of x and y values.\n"
   ]
  },
  {
   "cell_type": "code",
   "execution_count": null,
   "metadata": {},
   "outputs": [],
   "source": [
    "\"\"\" Code below \"\"\"\n",
    "# see numpy.atan2 --> https://numpy.org/doc/stable/reference/generated/numpy.arctan2.html\n",
    "# arctan2\n",
    "# implement an atan2 function that outputs angle in degree.\n",
    "\n",
    "def calcAtan2(y, x):\n",
    "    return None\n",
    "\n",
    "\"\"\" End of cell \"\"\"\n",
    "test_atan2(calcAtan2)"
   ]
  },
  {
   "cell_type": "markdown",
   "metadata": {
    "tags": []
   },
   "source": [
    "*** \n",
    "# B. Vector\n"
   ]
  },
  {
   "cell_type": "markdown",
   "metadata": {},
   "source": [
    "### 3x1 vector vs 1x3 vector - shape matters\n"
   ]
  },
  {
   "cell_type": "code",
   "execution_count": null,
   "metadata": {
    "tags": []
   },
   "outputs": [],
   "source": [
    "\"\"\" Code below \"\"\"\n",
    "\n",
    "\n",
    "\n",
    "\"\"\" End of cell \"\"\" \n",
    "print()"
   ]
  },
  {
   "cell_type": "markdown",
   "metadata": {},
   "source": [
    "### Vector Transpose\n"
   ]
  },
  {
   "cell_type": "code",
   "execution_count": null,
   "metadata": {},
   "outputs": [],
   "source": [
    "\"\"\" Code below \"\"\"\n",
    "\n",
    "# define a 1x3 vector \"a\" with elements of 1, 2, 3\n",
    "a = None\n",
    "\n",
    "# transpose of the vector a.\n",
    "# hint: https://numpy.org/doc/stable/reference/generated/numpy.ndarray.T.html\n",
    "a_transpose = None\n",
    "\n",
    "\"\"\" End of Cell \"\"\"\n",
    "test_vec_shape1x3(a)\n",
    "test_vec_t(a, a_transpose)"
   ]
  },
  {
   "cell_type": "markdown",
   "metadata": {},
   "source": [
    "###  Vector Norm (magnitutde of a vector)\n",
    "\n",
    "#### General case \n",
    "\n",
    "$$ \\vec{x} = [x_1, x_2, x_3, ..., x_N]^T $$\n",
    "\n",
    "$$\n",
    "\\vert\\vert\\vec{x}\\vert\\vert = \\sqrt{x_1^2 + x_2^2 + x_3^2 + ... + x_N^2} \n",
    "$$\n",
    "\n",
    "\n",
    "#### Example: 3D vector\n",
    "\n",
    "\n",
    "$$\n",
    "\\vec{A} = [x_a, y_a, z_a]^T\n",
    "$$\n",
    "\n",
    "$$\n",
    "\\vert\\vert\\vec{A}\\vert\\vert = \\sqrt{x_a^2 + y_a^2 + z_a^2}\n",
    "$$\n"
   ]
  },
  {
   "cell_type": "markdown",
   "metadata": {},
   "source": [
    "$$\\vec{x} = [x_1, x_2, x_3, ..., x_N]^T$$\n"
   ]
  },
  {
   "cell_type": "code",
   "execution_count": null,
   "metadata": {
    "tags": []
   },
   "outputs": [],
   "source": [
    "\"\"\" Code below \"\"\"\n",
    "\n",
    "# implement using for loop\n",
    "def norm_case1(x):\n",
    "    return None\n",
    "\n",
    "# implement using np.linalg.norm()\n",
    "def norm_case2(x):\n",
    "    return None\n",
    "\n",
    "\"\"\" End of cell \"\"\"\n",
    "test_norm(norm_case1)\n",
    "test_norm(norm_case2)"
   ]
  },
  {
   "cell_type": "markdown",
   "metadata": {},
   "source": [
    "### Normalizing a Vector\n",
    "    \n",
    "#### All normalized vector's size or norm should be 1.\n",
    "\n",
    "\n"
   ]
  },
  {
   "cell_type": "code",
   "execution_count": null,
   "metadata": {},
   "outputs": [],
   "source": [
    "\"\"\" Code below \"\"\"\n",
    "def normalize(vec):\n",
    "    return None\n",
    "\n",
    "\"\"\" End of cell \"\"\"\n",
    "test_normalize(normalize)"
   ]
  },
  {
   "cell_type": "markdown",
   "metadata": {},
   "source": [
    "### Vector Dot Product.<br>Vector dot product in 3D case.\n",
    "\n",
    "\n",
    "$$\\vec{a} = [a_1, a_2, a_3]$$\n",
    "$$\\vec{b} = [b_1, b_2, b_3]^T$$\n",
    "$$dot(a,b) = a\\cdot b = a_1b_1 + a_2b_2 + a_3b_3 = \\vert \\vec{a} \\vert \\vert \\vec{b} \\vert cos(\\theta)$$    \n"
   ]
  },
  {
   "cell_type": "code",
   "execution_count": null,
   "metadata": {},
   "outputs": [],
   "source": [
    "\"\"\" Code below \"\"\"\n",
    "\n",
    "## using numpy function\n",
    "def calcDot(v1, v2):\n",
    "    return None\n",
    "\n",
    "## calculate the angle theta\n",
    "def calcAngle(v1, v2):\n",
    "    # calculate dot product\n",
    "    dot = None\n",
    "    # calculate norm of v1\n",
    "    norm_v1 = None\n",
    "    # calculate norm of v2\n",
    "    norm_v2 = None\n",
    "    # calculate cos(theta)\n",
    "    cos = None\n",
    "    # claculate theta using np.arccos()\n",
    "    rad = None\n",
    "    # convert radian to degrees\n",
    "    return None\n",
    "\n",
    "\"\"\" End of cell \"\"\"\n",
    "test_dot(calcDot)\n",
    "test_calcDotAngle(calcAngle)"
   ]
  },
  {
   "cell_type": "markdown",
   "metadata": {},
   "source": [
    "### Vector Cross Product.<br>Vector dot product in 3D case.\n",
    "\n",
    "\n",
    "$$\\vec{a} = [a_1, a_2, a_3]$$\n",
    "    \n",
    "$$\\vec{b} = [b_1, b_2, b_3]^T$$\n",
    "    \n",
    "$$cross(a,b) = a\\times b = \\begin{bmatrix} a_2b_3 - a_3b_2\\\\ a_3b_1 - a_1b_3 \\\\ a_1b_2 - a_2b_1 \\end{bmatrix} = \\vert \\vec{a} \\vert \\vert \\vec{b} \\vert sin(\\theta)$$    \n"
   ]
  },
  {
   "cell_type": "code",
   "execution_count": null,
   "metadata": {},
   "outputs": [],
   "source": [
    "\"\"\" Code below \"\"\"\n",
    "\n",
    "## using numpy function\n",
    "def calcCross(v1, v2):\n",
    "    return None\n",
    "\n",
    "def calcCrossAngle(v1, v2):\n",
    "    return None\n",
    "\n",
    "\"\"\" End of cell \"\"\"   \n",
    "test_cross(calcCross)\n",
    "test_calcCrossAngle(calcCrossAngle)"
   ]
  },
  {
   "cell_type": "markdown",
   "metadata": {},
   "source": [
    "#### So far, we have tested dot and cross products. If we want to find an angle between two known vectors, which vector product should we use?\n"
   ]
  },
  {
   "cell_type": "code",
   "execution_count": null,
   "metadata": {},
   "outputs": [],
   "source": [
    "\"\"\" Here's the hint. Execute this cell.\"\"\"\n",
    "x = np.linspace(-np.pi, np.pi, 100)\n",
    "plt.figure()\n",
    "plt.plot(x, np.sin(x), 'r')\n",
    "plt.plot(x, np.cos(x), 'b')\n",
    "plt.legend(['Sine', 'Cosine'])\n",
    "plt.grid()"
   ]
  },
  {
   "cell_type": "markdown",
   "metadata": {
    "tags": []
   },
   "source": [
    "### Let's visualize the cross product."
   ]
  },
  {
   "cell_type": "code",
   "execution_count": null,
   "metadata": {
    "tags": []
   },
   "outputs": [],
   "source": [
    "interactiveCrossProduct(calcCross)"
   ]
  },
  {
   "cell_type": "markdown",
   "metadata": {},
   "source": [
    "# C. Matrix Multiplication in Numpy\n",
    "\n",
    "### Here, we will code how to code the matrix operations.\n",
    "\n",
    "#### 3x3 Matrix"
   ]
  },
  {
   "cell_type": "code",
   "execution_count": null,
   "metadata": {
    "tags": []
   },
   "outputs": [],
   "source": [
    "\"\"\" Code below \"\"\"\n",
    "# 2D matrix 3 x 3\n",
    "m = None\n",
    "\"\"\" End of cell \"\"\"\n",
    "print(m)\n",
    "print(m.shape)"
   ]
  },
  {
   "cell_type": "markdown",
   "metadata": {},
   "source": [
    "#### 3x3 Matrix Transpose"
   ]
  },
  {
   "cell_type": "code",
   "execution_count": null,
   "metadata": {},
   "outputs": [],
   "source": [
    "\"\"\" Code here \"\"\"\n",
    "m_transpose = None\n",
    "\n",
    "\"\"\" End of cell \"\"\"\n",
    "test_mat_t(m, m_transpose)"
   ]
  },
  {
   "cell_type": "markdown",
   "metadata": {},
   "source": [
    "#### Matrix - Vector Multiplication"
   ]
  },
  {
   "cell_type": "code",
   "execution_count": null,
   "metadata": {},
   "outputs": [],
   "source": [
    "\"\"\" Code below \"\"\"\n",
    "\n",
    "# 3x1 vector\n",
    "a = None\n",
    "\n",
    "# using np.dot()\n",
    "def matmul1(m, a):\n",
    "    return None\n",
    "\n",
    "# using np.matmul()\n",
    "def matmul2(m, a):\n",
    "    return None\n",
    "\n",
    "# using *\n",
    "def matmul3(m, a):\n",
    "    return None\n",
    "\n",
    "## fix below line\n",
    "correct_matrix_multiplication = [matmul1, matmul2]\n",
    "\"\"\" End of cell \"\"\"\n",
    "test_matmul(m, a, correct_matrix_multiplication)"
   ]
  },
  {
   "cell_type": "markdown",
   "metadata": {},
   "source": [
    "#### Matrix - Matrix Multiplication"
   ]
  },
  {
   "cell_type": "code",
   "execution_count": null,
   "metadata": {},
   "outputs": [],
   "source": [
    "\"\"\" Code below \"\"\"\n",
    "\n",
    "# The matrix multiplication is same as vector multiplication in Numpy.\n",
    "A = np.array([[1,2,3], [4,5,6], [7,8,9]])\n",
    "B = np.array([[2,3,4], [7,6,3], [3,-1,2]])\n",
    "\n",
    "C1 = None\n",
    "C2 = None\n",
    "C3 = None\n",
    "C4 = None\n",
    "\n",
    "print(C1)\n",
    "print(C2)\n",
    "print(C3)\n",
    "print(C4)\n",
    "\n",
    "C5 = A*B\n",
    "print(C5)\n",
    "\n",
    "print()"
   ]
  }
 ],
 "metadata": {
  "kernelspec": {
   "display_name": "Python 3.8.0 ('base')",
   "language": "python",
   "name": "python3"
  },
  "language_info": {
   "codemirror_mode": {
    "name": "ipython",
    "version": 3
   },
   "file_extension": ".py",
   "mimetype": "text/x-python",
   "name": "python",
   "nbconvert_exporter": "python",
   "pygments_lexer": "ipython3",
   "version": "3.8.0"
  },
  "vscode": {
   "interpreter": {
    "hash": "8cb48ee34b52abbc0c4c6c9a8d1e18bbd374f2d1391cafbd22bf8a5424951de7"
   }
  }
 },
 "nbformat": 4,
 "nbformat_minor": 4
}
